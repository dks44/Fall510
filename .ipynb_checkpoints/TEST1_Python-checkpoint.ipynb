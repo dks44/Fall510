{
 "cells": [
  {
   "cell_type": "markdown",
   "metadata": {},
   "source": [
    "# TEST1_Python"
   ]
  },
  {
   "cell_type": "code",
   "execution_count": 14,
   "metadata": {
    "collapsed": false
   },
   "outputs": [
    {
     "data": {
      "text/plain": [
       "0.5"
      ]
     },
     "execution_count": 14,
     "metadata": {},
     "output_type": "execute_result"
    }
   ],
   "source": [
    "def polygarea(coords):\n",
    "    \"\"\"Using Green's Theorem, we want to caluclate the area of any n-sided polygon. Green's theorem involves the absolute value\n",
    "    of the sum of all the coordinates, divided by 2\"\"\"\n",
    "    total = 0 #this will be our numerator which is the sum in Green's theorem. we start counting from 0 and will add \n",
    "    #the differences in coordinates (length of each vertex) in our sum to this base count of 0.\n",
    "    N = len(coords) #creating a variable that identifies the length of our input i.e. how many coordinates\n",
    "    for i in range(N): #for every character in our input, i.e. every coordinate\n",
    "        x = coords[i] #defining our x as the ith character within each coordinate in N\n",
    "        y = coords[(i+1) % N] # defining our y as the i plus 1 character within each coordinate in N\n",
    "        total += x[0]*y[1] - x[1]*y[0] #creating the numerator of Green's theorem i.e. sum of x_k*y_k+1 - x_k+1*y_k where\n",
    "        #x_k+1=x_1 i.e. x[1] and y_k+1=y_1 i.e. y[1]. adding this to our original base count of 0 hence +=\n",
    "    return 0.5*abs(total) #return Green's theorem\n",
    "\n",
    "coords=[(1,1), (2,1), (2,2)] #testing an input of a triangle with base of length 1 and height of length 1\n",
    "polygarea(coords)\n"
   ]
  },
  {
   "cell_type": "code",
   "execution_count": 17,
   "metadata": {
    "collapsed": false
   },
   "outputs": [
    {
     "data": {
      "text/plain": [
       "8"
      ]
     },
     "execution_count": 17,
     "metadata": {},
     "output_type": "execute_result"
    }
   ],
   "source": [
    "def polygperim(coords):\n",
    "    \"\"\"We want to calculate the perimeter of an n-sided polygon using the coordinates of the polygon and the length of their\n",
    "    vertices. We do this by summing the lengths of each vertex in the polygon\"\"\"\n",
    "    total = 0 #this will be the sum of the vertex lengths. we start counting from 0 and will add the differences in our \n",
    "    # coordinates to this base count of 0.\n",
    "    N = len(coords) #creating a variable that identifies the length of our input i.e. how many coordinates\n",
    "    for i in range(N): #for every character in our input, i.e. every coordinate\n",
    "        x = coords[i] #defining our x as the ith character within each coordinate in N\n",
    "        y = coords[(i+1) % N] # defining our y as the i plus 1 character within each coordinate in N\n",
    "        total += x[0]*y[1] - x[1]*y[0] #creating the sum of the vertex lengths i.e. summing the differences between coordinates\n",
    "    return abs(total) #returning absolute value since we want the total lengths of the vertices; they must be positive\n",
    "\n",
    "coords=[(1,1), (3,1), (3,3), (1,3)] #testing an input of a square with vertex length of 2\n",
    "polygperim(coords)"
   ]
  },
  {
   "cell_type": "code",
   "execution_count": null,
   "metadata": {
    "collapsed": true
   },
   "outputs": [],
   "source": []
  }
 ],
 "metadata": {
  "kernelspec": {
   "display_name": "Python 3",
   "language": "python",
   "name": "python3"
  },
  "language_info": {
   "codemirror_mode": {
    "name": "ipython",
    "version": 3
   },
   "file_extension": ".py",
   "mimetype": "text/x-python",
   "name": "python",
   "nbconvert_exporter": "python",
   "pygments_lexer": "ipython3",
   "version": "3.4.3"
  }
 },
 "nbformat": 4,
 "nbformat_minor": 0
}
