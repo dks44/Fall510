{
 "cells": [
  {
   "cell_type": "markdown",
   "metadata": {},
   "source": [
    "# Homework 2"
   ]
  },
  {
   "cell_type": "markdown",
   "metadata": {},
   "source": [
    "Question 1"
   ]
  },
  {
   "cell_type": "code",
   "execution_count": 1,
   "metadata": {
    "collapsed": false
   },
   "outputs": [
    {
     "name": "stdout",
     "output_type": "stream",
     "text": [
      "0 1 1 2 3 5 8 13 21 34 55 89 144 233 377 610\n"
     ]
    }
   ],
   "source": [
    "#define a function fib that takes a number 'n' as a parameter, and prints all the Fibonacci numbers less than 'n' ti the screen.\n",
    "def fib(n): #creating the function fib\n",
    "    \"\"\"Defining a function called fib that takes a number 'n' as a parameter, and prints all the Fibonacci numbers less than n\"\"\"\n",
    "    a, b = 0, 1 #listing the first 2 numbers of the sequence\n",
    "    while b < n: #so that the last/highest number the code spits out will be less than n\n",
    "        print(a, end=' ')\n",
    "        a, b = b, a+b #detailing the sequence: list the first 2 numbers, add them, then continue spitting out a+b with a and b continuously updating\n",
    "    print(a) #print the list of \"a's\"\n",
    "fib(700) #call out the function"
   ]
  },
  {
   "cell_type": "markdown",
   "metadata": {},
   "source": [
    "Question 2"
   ]
  },
  {
   "cell_type": "code",
   "execution_count": 2,
   "metadata": {
    "collapsed": false
   },
   "outputs": [
    {
     "data": {
      "text/plain": [
       "21"
      ]
     },
     "execution_count": 2,
     "metadata": {},
     "output_type": "execute_result"
    }
   ],
   "source": [
    "#define a function mymax() that takes two numbers as arguments and returns the largest of them.\n",
    "#Use the if-then-else construct\n",
    "\n",
    "def mymax(a,b): #function to find out max of two numbers a and b\n",
    "    \"\"\"Defining a function mymax() that takes two numbers as arguments and returns the largest of them.\n",
    "    Using the if-then-else construct to do this\"\"\"\n",
    "    if a > b:\n",
    "        return a #since we want the max number, we want the function to return the greater of the two numbers\n",
    "    else: \n",
    "        return b #if a is not greater then b, then b must be greater than a (not considering that they may be equal); so we want y instead\n",
    "    print (mymax(a,b)) #print the greater number\n",
    "a = 21\n",
    "b = 6    \n",
    " \n",
    "mymax(a,b) #call out the function given the two variables a and b above"
   ]
  },
  {
   "cell_type": "markdown",
   "metadata": {},
   "source": [
    "Question 3"
   ]
  },
  {
   "cell_type": "code",
   "execution_count": 10,
   "metadata": {
    "collapsed": false
   },
   "outputs": [
    {
     "data": {
      "text/plain": [
       "23"
      ]
     },
     "execution_count": 10,
     "metadata": {},
     "output_type": "execute_result"
    }
   ],
   "source": [
    "#define a function max_of_three() that takes three numbers as arguments and returns the largest of them.\n",
    "\n",
    "def max_of_three(x,y,z): #creating the function max_of_three with three numbers as arguments\n",
    "    \"\"\"Defining a function max_of_three() that takes three numbers as arguments and returns the largest of them\"\"\"\n",
    "    if x>y: #using an if-else function to define what output the function should spit out depending on the value of x, y, and z\n",
    "        if x>z: #x greater than y and x greater than z, then return the bigger number i.e. x\n",
    "            return x\n",
    "        else:\n",
    "            return z #if x greater than y but not greater than z, then return z since it's also greater than y.\n",
    "    else: \n",
    "        if y>z:\n",
    "            return y #if x is not greater than y but y greater than z, then y is the bigger of the 3 numbers.\n",
    "        else:\n",
    "            return z #if x is not greater than y and y is not greater than z, then z is the bigger number.\n",
    "firstNumber = 5 #create the variable first number\n",
    "secondNumber = 17 #create the second number\n",
    "thirdNumber = 23 #create the third number\n",
    "\n",
    "max_of_three(firstNumber, secondNumber, thirdNumber) #call out function"
   ]
  },
  {
   "cell_type": "markdown",
   "metadata": {},
   "source": [
    "Question 4"
   ]
  },
  {
   "cell_type": "code",
   "execution_count": 12,
   "metadata": {
    "collapsed": false
   },
   "outputs": [
    {
     "data": {
      "text/plain": [
       "14"
      ]
     },
     "execution_count": 12,
     "metadata": {},
     "output_type": "execute_result"
    }
   ],
   "source": [
    "#define a function mylen() that computes the length of a given list or string.\n",
    "\n",
    "def mylen(String): #defining function mylen with input of a string of text\n",
    "    \"\"\"Define a function mylen() that computes the length of a given list or string\"\"\"\n",
    "    return 1 + mylen(String[1:]) if String else 0 #output of function will count all characters in input starting from the first\n",
    "    #count starts at zero so we add when returning the output\n",
    "    print (\"Length of the String is \" +str(mylen(String)))#print output to include statement 'Length of string' and the count of our input\n",
    "    \n",
    "mylen(\"howmanyletters\") #call function with inserted input. use quotation marks to indicate text."
   ]
  },
  {
   "cell_type": "markdown",
   "metadata": {},
   "source": [
    "Question 5"
   ]
  },
  {
   "cell_type": "code",
   "execution_count": 13,
   "metadata": {
    "collapsed": false
   },
   "outputs": [
    {
     "name": "stdout",
     "output_type": "stream",
     "text": [
      "The entered character is not a Vowel\n"
     ]
    },
    {
     "data": {
      "text/plain": [
       "'False'"
      ]
     },
     "execution_count": 13,
     "metadata": {},
     "output_type": "execute_result"
    }
   ],
   "source": [
    "#Write a function that takes a character and returns True if it is a vowel, False otherwise. \n",
    "\n",
    "def characterChecker (Char): #defining a function called character checker that will check whether my input is a vowel or consonant\n",
    "    \"\"\"Defining a function that takes a character and returns True if it is a vowel, False otherwise.\"\"\"\n",
    "    if (Char == \"a\" or Char == \"A\" or #defining function to include instances of lower and upper case vowels\n",
    " Char == \"e\" or Char == \"E\" or\n",
    " Char == \"i\" or Char == \"I\" or\n",
    " Char == \"o\" or Char == \"O\" or\n",
    " Char == \"u\" or Char == \"U\"):\n",
    "         return \"True\" #if input Char includes any of the above, then output will be True\n",
    "    else:\n",
    "         return \"False\" #if input Char does not includes any of the above, then output will be False\n",
    "Char = \"p\" #input\n",
    "\n",
    "if characterChecker (Char) == \"True\":\n",
    "     print(\"The entered character is a Vowel\") # additional output if Char does not match any of the function's criteria defined above\n",
    "else:\n",
    "     print(\"The entered character is not a Vowel\") #additional output if Char does match any of the function's criteria defined above\n",
    "        \n",
    "characterChecker(Char) #call out function"
   ]
  },
  {
   "cell_type": "markdown",
   "metadata": {},
   "source": [
    "Question 6"
   ]
  },
  {
   "cell_type": "code",
   "execution_count": 14,
   "metadata": {
    "collapsed": false
   },
   "outputs": [
    {
     "name": "stdout",
     "output_type": "stream",
     "text": [
      "The translated string is: hohopope tothohisos wowororkoksos\n"
     ]
    },
    {
     "data": {
      "text/plain": [
       "'hohopope tothohisos wowororkoksos'"
      ]
     },
     "execution_count": 14,
     "metadata": {},
     "output_type": "execute_result"
    }
   ],
   "source": [
    "#write a function translate() that will translate a text into \"rövarspråket\". \n",
    "#That is, double every consonant and place \"o\" in between.\n",
    "\n",
    "def characterChecker (Char):\n",
    "    \"\"\"Defining a function called character checker that will check whether my input contains a vowel or consonant\n",
    "    since we want a rule that applies to consonants, we need to be able to identify them\"\"\"\n",
    "    if (Char == \"a\" or Char == \"A\" or\n",
    " Char == \"e\" or Char == \"E\" or\n",
    " Char == \"i\" or Char == \"I\" or\n",
    " Char == \"o\" or Char == \"O\" or\n",
    " Char == \"u\" or Char == \"U\"):\n",
    "         return \"True\" #if input Char includes any of the above, then output will be True\n",
    "    else:\n",
    "         return \"False\" #if input Char does not includes any of the above, then output will be False\n",
    "\n",
    "def translator(stringToTranslate): \"\"\"Defining function that will translate input into special language\"\"\"\n",
    "        translatedString = \"\" #output will be some string of text\n",
    "        for i in stringToTranslate:#for a character in our string\n",
    "            if (characterChecker(i) == \"True\" or str(i) == \" \"): #if string contains a vowel, output will be just some text with the character\n",
    "                translatedString = translatedString+str(i)\n",
    "            elif characterChecker(i) == \"False\":\n",
    "                translatedString = translatedString+str(i)+\"o\"+str(i)\n",
    "                #if string does not contain a vowel, i.e. a consonant, output will be some text with the character, o, and the character.\n",
    "\n",
    "        return translatedString #output will be a string of \n",
    "\n",
    "stringToTranslate = (\"hope this works\"); #input\n",
    "print (\"The translated string is: \" +str(translator(stringToTranslate))) #print output\n",
    "\n",
    "translator(stringToTranslate) #call out function"
   ]
  },
  {
   "cell_type": "markdown",
   "metadata": {},
   "source": [
    "Question 7"
   ]
  },
  {
   "cell_type": "code",
   "execution_count": 15,
   "metadata": {
    "collapsed": false
   },
   "outputs": [
    {
     "name": "stdout",
     "output_type": "stream",
     "text": [
      "The initial list is: [4, 3, 2, 4]\n",
      "Sum of the members of the list is: 13\n",
      "Product of the members of the list is: 96\n"
     ]
    },
    {
     "data": {
      "text/plain": [
       "96"
      ]
     },
     "execution_count": 15,
     "metadata": {},
     "output_type": "execute_result"
    }
   ],
   "source": [
    "#define a function sum() and a function multiply() that sums and multiplies (respectively) all the numbers in a list.\n",
    "\n",
    "def sum(List): #defining a function called sum\n",
    "    \"\"\"Defining a function sum() and a function multiply() that sums and multiplies (respectively) all the numbers in a list\"\"\"\n",
    "    totalSum = 0\n",
    "    for i in List: #for every character in the list, total sum should be 0 plus each character in the list\n",
    "        totalSum = (totalSum) + (List[i-1])\n",
    "\n",
    "    return totalSum #output\n",
    "\n",
    "\n",
    "def multiply(List): #defining a function called multiply\n",
    "    totalMultipliedAmount = 1\n",
    "    for i in List:\n",
    "        totalMultipliedAmount = totalMultipliedAmount * (List[i-1])\n",
    "        #for every character in the list, total product should be 1 multiplied by all characters in the list\n",
    "\n",
    "    return totalMultipliedAmount #output\n",
    "\n",
    "List1 = [4,3,2,4]\n",
    "\n",
    "print (\"The initial list is: \" +str(List1[:])) #output listing out the numbers/input\n",
    "\n",
    "print(\"Sum of the members of the list is: \" +str(sum(List1))) #output using the sum function\n",
    "\n",
    "print(\"Product of the members of the list is: \" +str(multiply(List1))) #output using the multiply function\n",
    "\n",
    "sum(List1) #calling out functions\n",
    "multiply(List1)"
   ]
  },
  {
   "cell_type": "markdown",
   "metadata": {},
   "source": [
    "Question 8"
   ]
  },
  {
   "cell_type": "code",
   "execution_count": 17,
   "metadata": {
    "collapsed": false
   },
   "outputs": [
    {
     "name": "stdout",
     "output_type": "stream",
     "text": [
      "iamafish\n"
     ]
    }
   ],
   "source": [
    "#define a function reverse() that computes the reversal of a string\n",
    "\n",
    "def reverse(String): #defining function reverse with input of a string\n",
    "    \"\"\"Defining a function reverse() that computes the reversal of a string\"\"\"\n",
    "    stringLength = len(String) #incorporating length of string so we can later use it to specify what happens to each character\n",
    "\n",
    "    reversedString = \"\" #output will be some text\n",
    "\n",
    "    for i in range(0,stringLength): #for every character in the string input, the output will be some text that includes the string backwards\n",
    "        reversedString = reversedString+String[-i-1]\n",
    "\n",
    "    print (str(reversedString)) #output to print\n",
    "\n",
    "\n",
    "stringToReverse = \"hsifamai\" #input\n",
    "\n",
    "reverse(stringToReverse) #call out function\n"
   ]
  },
  {
   "cell_type": "markdown",
   "metadata": {},
   "source": [
    "Question 9"
   ]
  },
  {
   "cell_type": "code",
   "execution_count": 18,
   "metadata": {
    "collapsed": false
   },
   "outputs": [
    {
     "name": "stdout",
     "output_type": "stream",
     "text": [
      "The word is a palindrome\n"
     ]
    },
    {
     "data": {
      "text/plain": [
       "True"
      ]
     },
     "execution_count": 18,
     "metadata": {},
     "output_type": "execute_result"
    }
   ],
   "source": [
    "#define a function is_palindrome() that recognizes palindromes (i.e. words that look the same backwards)\n",
    "\n",
    "def reverse(String): #defining reverse function so that it's output will be the input for our is_palindrome function later\n",
    "    \"\"\"Defining a function is_palindrome() that recognizes palindromes (i.e. words that look the same backwards)\"\"\"\n",
    "    stringLength = len(String)\n",
    "\n",
    "    reversedString = \"\"\n",
    "\n",
    "    for i in range(0,stringLength):\n",
    "        reversedString = reversedString+String[-i-1]\n",
    "\n",
    "    return reversedString\n",
    "\n",
    "def removeSpecialChar(String):\n",
    "    #Function to remove special characters\n",
    "    #In a sentence or word, there can be special characters like spaces,question marks, exclamation marks, etc.\n",
    "    #W have to remove those special characters while checking whether the sentence or word is palindromic or not!!\n",
    "\n",
    "    newString = \"\"\n",
    "    stringLength = len(String)\n",
    "\n",
    "    for i in range(0,stringLength): #if function for any special character that might be in the input\n",
    "        if (String[i] == \" \" or\n",
    "        String[i] == \"\\\"\\\"\" or\n",
    "        String[i] == \"?\" or\n",
    "        String[i] == \",\" or\n",
    "        String[i] == \".\" or\n",
    "        String[i] == \":\" or\n",
    "        String[i] == \";\" or\n",
    "        String[i] == \"'\" or\n",
    "        String[i] == \"\\\"\" or\n",
    "        String[i] == \"-\") :\n",
    "            newString = newString\n",
    "        else:\n",
    "            newString = newString+String[i] #if there are no special char., return the input\n",
    "\n",
    "    return newString #output\n",
    "\n",
    "def is_palindrome(String):#defining function to check if string is palindrome or not\n",
    "\n",
    "    reversedString = reverse(String) #using function defined above to reverse input\n",
    "\n",
    "    newString = removeSpecialChar(String) #using function defined above to remove special characters from input\n",
    "    newReversedString = removeSpecialChar(reversedString) #using function defined above to remove special characters from reverse input\n",
    "\n",
    "\n",
    "    if newString == newReversedString:#if input, without special char., is the same as the reversed string, also without special char. then output True\n",
    "        return True\n",
    "    else:\n",
    "        return False\n",
    "\n",
    "stringToCheckPalindrome = \"racecar\" #input\n",
    "\n",
    "if is_palindrome(stringToCheckPalindrome) == True:#if input is a palindrome, then give this output\n",
    "    print(\"The word is a palindrome\")\n",
    "else:\n",
    "    print(\"The word is not a palindrome\") #if not a palindrom, then give this output\n",
    "\n",
    "    \n",
    "is_palindrome(stringToCheckPalindrome) #call out function\n"
   ]
  },
  {
   "cell_type": "markdown",
   "metadata": {},
   "source": [
    "Question 10"
   ]
  },
  {
   "cell_type": "code",
   "execution_count": 19,
   "metadata": {
    "collapsed": false
   },
   "outputs": [
    {
     "name": "stdout",
     "output_type": "stream",
     "text": [
      "The list is: ['abcd', 'efghi', 'jk', 'lmnop', 'qrs', 'tuvwxyz']\n",
      "The item is not present in the list\n"
     ]
    },
    {
     "data": {
      "text/plain": [
       "False"
      ]
     },
     "execution_count": 19,
     "metadata": {},
     "output_type": "execute_result"
    }
   ],
   "source": [
    "#write a function is_member() that takes a value 'x' and a list of values 'a', and returns True if 'x' is a memeber of 'a', False otherwise.\n",
    "\n",
    "def is_member(x, a): \n",
    "    \"\"\"Defining a function is_member with values 'x' as the value to check\n",
    "    and 'a' as the list of values to check that x is present in.\"\"\"\n",
    "\n",
    "    for i in range(len(a)): #for every character within the list 'a', if x is in that list, then output is True, False otherwise\n",
    "         if x == a[i]:\n",
    "            return True\n",
    "         else:\n",
    "            return False\n",
    "List = [\"abcd\",\"efghi\",\"jk\",\"lmnop\",\"qrs\",\"tuvwxyz\"] #list to check i.e. 'a'\n",
    "\n",
    "print(\"The list is: \" +str(List)) #prints out the list 'a'\n",
    "\n",
    "itemToCheck = \"bcd\" #x value to check whether it's in list 'a'\n",
    "\n",
    "if is_member(itemToCheck,List) == True:\n",
    "     print (\"The item is present in the list\") #output to print if function results in true\n",
    "else:\n",
    "     print (\"The item is not present in the list\") #output to print if function results in false\n",
    "\n",
    "is_member(itemToCheck,List) #call out function"
   ]
  },
  {
   "cell_type": "markdown",
   "metadata": {},
   "source": [
    "Question 11"
   ]
  },
  {
   "cell_type": "code",
   "execution_count": 20,
   "metadata": {
    "collapsed": false
   },
   "outputs": [
    {
     "name": "stdout",
     "output_type": "stream",
     "text": [
      "['abcd', 'race', 'car', 'fly']\n",
      "['food', 'what', 'abcd', 'fish']\n",
      "True; overlapping\n"
     ]
    }
   ],
   "source": [
    "#define a function overlapping() that takes two lists and returns True is they have at least one member in common, False otherwise.\n",
    "#can use is_member() function.\n",
    "\n",
    "def overlapping(List1, List2):#defining function overlapping that will compare two lists\n",
    "    \"\"\"Defining a function overlapping() that takes two lists and \n",
    "    returns True is they have at least one member in common, False otherwise.\"\"\"\n",
    "    print (List1) #output to print the lists defined\n",
    "    print (List2)\n",
    "    \n",
    "    for i in range(len(List1)): #for every character in the first list and then for every character in the second list...\n",
    "        \n",
    "        for j in range(len(List2)):\n",
    "\n",
    "            if List1[i] == List2[j]: #if any member of List 1 is the same as any member of List 2, then return True\n",
    "                return True\n",
    "            \n",
    "\n",
    "List1 = [\"abcd\",\"race\",\"car\",\"fly\"] #input\n",
    "List2 = [\"food\",\"what\",\"abcd\",\"fish\"] #input\n",
    "\n",
    "if overlapping(List1,List2) == True: #if function is true i.e. the two lists have a member in common, print output below.\n",
    "    print(\"True; overlapping\")\n",
    "else:\n",
    "    print(\"False; No overlapping\") #if function is false i.e. the two lists do not have a member in common, print output below.\n"
   ]
  },
  {
   "cell_type": "markdown",
   "metadata": {},
   "source": [
    "Question 12"
   ]
  },
  {
   "cell_type": "code",
   "execution_count": 21,
   "metadata": {
    "collapsed": false
   },
   "outputs": [
    {
     "name": "stdout",
     "output_type": "stream",
     "text": [
      "The generated string is: dddddddddddd\n"
     ]
    },
    {
     "data": {
      "text/plain": [
       "'dddddddddddd'"
      ]
     },
     "execution_count": 21,
     "metadata": {},
     "output_type": "execute_result"
    }
   ],
   "source": [
    "#define a function generate_n_chars() that takes an integer 'n' and a character 'c' and returns a string, n characters long, consisting of only c's.\n",
    "\n",
    "def generate_n_chars(n, c): \n",
    "    \"\"\"Defining a function that will take an integer and a character and return a string 'n' characters long\"\"\"\n",
    "    String=\"\" #output will be a string with some sort of text\n",
    "    \n",
    "    for i in range(n): #for every character in the length of the integer, the output should be a string the same length of the integer \n",
    "        #and composed of our character c\n",
    "        String = String+c\n",
    "\n",
    "    return String #output\n",
    "\n",
    "c = \"d\" #character input\n",
    "n = 12 #integer input\n",
    "\n",
    "print(\"The generated string is: \" +str(generate_n_chars(n,c))) #output to print\n",
    "\n",
    "generate_n_chars(12, \"d\") #call out function"
   ]
  },
  {
   "cell_type": "code",
   "execution_count": null,
   "metadata": {
    "collapsed": true
   },
   "outputs": [],
   "source": []
  }
 ],
 "metadata": {
  "kernelspec": {
   "display_name": "Python 3",
   "language": "python",
   "name": "python3"
  },
  "language_info": {
   "codemirror_mode": {
    "name": "ipython",
    "version": 3
   },
   "file_extension": ".py",
   "mimetype": "text/x-python",
   "name": "python",
   "nbconvert_exporter": "python",
   "pygments_lexer": "ipython3",
   "version": "3.4.3"
  }
 },
 "nbformat": 4,
 "nbformat_minor": 0
}
