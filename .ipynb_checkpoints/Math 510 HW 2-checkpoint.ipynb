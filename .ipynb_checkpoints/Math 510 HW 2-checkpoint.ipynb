{
 "cells": [
  {
   "cell_type": "markdown",
   "metadata": {},
   "source": [
    "# Homework 2"
   ]
  },
  {
   "cell_type": "markdown",
   "metadata": {},
   "source": [
    "Question 1"
   ]
  },
  {
   "cell_type": "code",
   "execution_count": null,
   "metadata": {
    "collapsed": true
   },
   "outputs": [],
   "source": [
    "#See fibo code on page 9 of class notes\n",
    "def fib(n):\n",
    "    a, b = 0, 1\n",
    "    while a < n:\n",
    "        print(a, end=' ')\n",
    "        a, b = b, a+b\n",
    "    print(a)\n",
    "fib(50)\n",
    "print(fib)"
   ]
  },
  {
   "cell_type": "markdown",
   "metadata": {},
   "source": [
    "Question 2"
   ]
  },
  {
   "cell_type": "code",
   "execution_count": null,
   "metadata": {
    "collapsed": false
   },
   "outputs": [],
   "source": [
    "#Define a function mymax() that takes two numbers as arguments and returns the largest of them. Use the if-then-else constructs.\n",
    "\n",
    "def mymax(x,y): #function to find out max of two numbers x and y\n",
    "    if x > y:\n",
    "        return x #since we want the max number, we want the function to return the greater of the two numbers\n",
    "    else: \n",
    "        return y #if x is not greater then y, then y must be greater than x; so we want y instead\n",
    "    x= input(21)\n",
    "    y= input(6)\n",
    "    print (str(mymax(x,y)) + ' is larger')\n",
    "    \n",
    "mymax(21,6)"
   ]
  },
  {
   "cell_type": "markdown",
   "metadata": {},
   "source": [
    "Question 3"
   ]
  },
  {
   "cell_type": "code",
   "execution_count": null,
   "metadata": {
    "collapsed": true
   },
   "outputs": [],
   "source": [
    "#define a function max_of_three() that takes three numbers as arguments and returns the largest of them\n",
    "\n",
    "def max_of_three(x,y,z)\n",
    "if x>y:\n",
    "    if x>z:\n",
    "        return x\n",
    "    else:\n",
    "        return z\n",
    "else: \n",
    "    if y>z:\n",
    "        return y\n",
    "    else:\n",
    "        return z\n",
    "\n",
    "firstNumber = int(input(5))\n",
    "secondNumber = int(input(17))\n",
    "thirdNumber = int(input(23))\n",
    "\n",
    "print (\"Largest of\" + str(firstNumber) + \",\" + str(secondNumber) + \",\" + str(thirdNumber) + \"is\" + str(max_of_three))\n",
    "    "
   ]
  },
  {
   "cell_type": "markdown",
   "metadata": {},
   "source": [
    "Question 4"
   ]
  },
  {
   "cell_type": "code",
   "execution_count": null,
   "metadata": {
    "collapsed": true
   },
   "outputs": [],
   "source": [
    "#define a function mylen() that computes the length of a given list or string\n",
    "\n",
    "def mylen(inputString):\n",
    "    count = 0\n",
    "    for i in inputString:\n",
    "        count = count+1\n",
    "inputString = input(hkseufbiakncoeudh)\n",
    "\n",
    "print(mylen(inputString))"
   ]
  },
  {
   "cell_type": "markdown",
   "metadata": {},
   "source": [
    "Question 5"
   ]
  },
  {
   "cell_type": "code",
   "execution_count": null,
   "metadata": {
    "collapsed": true
   },
   "outputs": [],
   "source": [
    "#Write a function that takes a character and returns True if it is a vowel, False otherwise. \n",
    "\n",
    "def vowelChecker (inputChar):\n",
    "    if (inputChar == \"a\" or inputChar == \"A\" or\n",
    " inputChar == \"e\" or inputChar == \"E\" or\n",
    " inputChar == \"i\" or inputChar == \"I\" or\n",
    " inputChar == \"o\" or inputChar == \"O\" or\n",
    " inputChar == \"u\" or inputChar == \"U\"):\n",
    "         return \"True\"\n",
    "    else:\n",
    "         return \"False\"\n",
    "\n",
    "inputChar = input(p)\n",
    "\n",
    "if vowelChecker (inputChar) == \"True\":\n",
    "     print(\"The entered character is a Vowel\")\n",
    "else:\n",
    "     print(\"The entered character is not a Vowel\")"
   ]
  },
  {
   "cell_type": "markdown",
   "metadata": {},
   "source": [
    "Question 6"
   ]
  },
  {
   "cell_type": "code",
   "execution_count": null,
   "metadata": {
    "collapsed": true
   },
   "outputs": [],
   "source": [
    "#write a function translate() that will translate a text into \"rövarspråket\". That is, double every consonant and place \"o\" in between\n",
    "\n",
    "def vowelChecker (inputChar):\n",
    "    if (inputChar == \"a\" or inputChar == \"A\" or\n",
    " inputChar == \"e\" or inputChar == \"E\" or\n",
    " inputChar == \"i\" or inputChar == \"I\" or\n",
    " inputChar == \"o\" or inputChar == \"O\" or\n",
    " inputChar == \"u\" or inputChar == \"U\"):\n",
    "         return \"True\"\n",
    "    else:\n",
    "         return \"False\"\n",
    "\n",
    "def translator(stringToTranslate):\n",
    "translatedString = \"\"\n",
    "\n",
    " for i in stringToTranslate:\n",
    "    if (vowelChecker(i) == \"True\" or str(i) == \" \"):\n",
    "    translatedString = translatedString+str(i)\n",
    "    elif vowelChecker(i) == \"False\":\n",
    "    translatedString = translatedString+str(i)+\"o\"+str(i)\n",
    "\n",
    "     return translatedString\n",
    "\n",
    "stringToTranslate = input(\"hope this works\");\n",
    "\n",
    "print (\"The translated string is: \" +str(translator(stringToTranslate)))\n",
    "\n",
    "&nbsp;\n"
   ]
  },
  {
   "cell_type": "code",
   "execution_count": null,
   "metadata": {
    "collapsed": true
   },
   "outputs": [],
   "source": []
  }
 ],
 "metadata": {
  "kernelspec": {
   "display_name": "Python 3",
   "language": "python",
   "name": "python3"
  },
  "language_info": {
   "codemirror_mode": {
    "name": "ipython",
    "version": 3
   },
   "file_extension": ".py",
   "mimetype": "text/x-python",
   "name": "python",
   "nbconvert_exporter": "python",
   "pygments_lexer": "ipython3",
   "version": "3.4.3"
  }
 },
 "nbformat": 4,
 "nbformat_minor": 0
}
