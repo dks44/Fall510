{
 "cells": [
  {
   "cell_type": "markdown",
   "metadata": {},
   "source": [
    "# Homework 3"
   ]
  },
  {
   "cell_type": "markdown",
   "metadata": {},
   "source": [
    "SW: Overall, very good. In general, you want your functions to return values, even if the instructions are not explicit on that point. Also think about how you want your functions to behave if they receive unexpected input, e.g.,\n",
    "an empty list, or a string rather than a number, etc."
   ]
  },
  {
   "cell_type": "markdown",
   "metadata": {},
   "source": [
    "Question 1:"
   ]
  },
  {
   "cell_type": "code",
   "execution_count": 6,
   "metadata": {
    "collapsed": false
   },
   "outputs": [
    {
     "name": "stdout",
     "output_type": "stream",
     "text": [
      "***\n",
      "**\n",
      "*********\n",
      "****\n",
      "*******\n"
     ]
    }
   ],
   "source": [
    "def histogram(List):\n",
    "    \"\"\"Defining a procedure histogram() that takes a list of integers and prints a histogram to the screen in the form of asterisks\"\"\"\n",
    "    for i in range(0, len(List)): #for the length of every character in our list... \n",
    "        print ('*'*List[i]); #output is to print the length of the character in the list using asterisks\n",
    "    return;\n",
    "\n",
    "\n",
    "List = [3,2,9,4,7] #input\n",
    "\n",
    "histogram(List); #call function"
   ]
  },
  {
   "cell_type": "markdown",
   "metadata": {},
   "source": [
    "Question 2"
   ]
  },
  {
   "cell_type": "code",
   "execution_count": 13,
   "metadata": {
    "collapsed": false
   },
   "outputs": [
    {
     "name": "stdout",
     "output_type": "stream",
     "text": [
      "The list is: [0, 64, 2, 598, 7, 15, 32410, 6, 95, 145, 187, 3, 6532014, 1, 8, 4, 27]\n",
      "The max in the list is: 6532014\n"
     ]
    }
   ],
   "source": [
    "#write a function max_in_list () that takes a list of numbers and returns the largest one\n",
    "\n",
    "def max_in_list(List):\n",
    "    \"\"\"We have already created functions that determine the max of two and three numbers.\n",
    "    But now, we want to define a function that will detrmine the max of a list of numbers of any length\n",
    "    The input will be a list of numbers in any order, and the output will return the highest number in that list\"\"\"\n",
    "    sortedList = sorted(List) #creating a variable that takes the list that we input, and sorts it numerically.\n",
    "\n",
    "    return sortedList[-1] #output will return the last character in the list which will the max (since it's sorted)\n",
    "\n",
    "    \n",
    "List = [0,64,2,598,7,15,32410,6,95,145,187,3,6532014,1,8,4,27] #input of a list of random numbers\n",
    "\n",
    "print(\"The list is: \"+str(List)) #output that prints the list as is\n",
    "\n",
    "print(\"The max in the list is: \" +str(max_in_list(List))) #output of function: the max of our input list\n",
    "\n",
    "# SW: what happens if you get an empty list, i.e., max_in_list([])? should you handle that case or let Python\n",
    "#     throw an error?"
   ]
  },
  {
   "cell_type": "markdown",
   "metadata": {},
   "source": [
    "Question 3"
   ]
  },
  {
   "cell_type": "code",
   "execution_count": 14,
   "metadata": {
    "collapsed": false
   },
   "outputs": [
    {
     "name": "stdout",
     "output_type": "stream",
     "text": [
      "List of words:['abracadabra', 'spider', 'weekend', 'supercalifragilistic']\n",
      "List of wordlength:[11, 6, 7, 20]\n"
     ]
    }
   ],
   "source": [
    "#write a program that maps a list of words into a list of integers representing the length of the corresponding words.\n",
    "\n",
    "\"\"\"We want a program that will take our input, which is a list of words, and return the length of each word also in a list.\n",
    "We start with our list of words\"\"\"\n",
    "listOfWords = ['abracadabra','spider','weekend','supercalifragilistic']#input\n",
    "\n",
    "listOfInts = [] #this will be the list of the lengths of the words in our input\n",
    "\n",
    "for i in range(len(listOfWords)): #for every character in each word, determine the length of each word\n",
    "    listOfInts.append(len(listOfWords[i])) #we want to add/append the length of the word to our Integer list variable, listofInts\n",
    "\n",
    "print (\"List of words:\"+str(listOfWords))    #print output of the list of words in our input, as is\n",
    "print (\"List of wordlength:\"+str(listOfInts)) #prints the list of numbers in the variable listofInts, which is now \n",
    "#the length of each word from the input\n",
    "\n",
    "# SW: lost points: this should be a function that can operate on an arbitrary list, not only one you have pre-defined.\n",
    "#     the instructions said to write a program, not explicitly to write a function, but it is implied that your\n",
    "#     program should handle an arbitrary list, which means you need to write a function."
   ]
  },
  {
   "cell_type": "markdown",
   "metadata": {},
   "source": [
    "Question 4"
   ]
  },
  {
   "cell_type": "code",
   "execution_count": 16,
   "metadata": {
    "collapsed": false
   },
   "outputs": [
    {
     "name": "stdout",
     "output_type": "stream",
     "text": [
      "The original list is: ['abracadabra', 'spider', 'weekend', 'supercalifragilistic']\n",
      "The largest word in the list is: supercalifragilistic\n"
     ]
    },
    {
     "data": {
      "text/plain": [
       "'a'"
      ]
     },
     "execution_count": 16,
     "metadata": {},
     "output_type": "execute_result"
    }
   ],
   "source": [
    "#write a function find_longest_word() that takes a list of words and returns the length of the longest one.\n",
    "\n",
    "def find_longest_word(ListOfWords):   \n",
    "    \"\"\"We want to define a function that will take any list of words and return the length of the longest word in that list\"\"\"\n",
    "\n",
    "    listOfWordCount = [] #creating a variable that we will use later to determine the length of the words in our list\n",
    "\n",
    "    for i in range(len(ListOfWords)): #for every character in our list of words...\n",
    "        listOfWordCount.append(len(ListOfWords[i])) #we want to append our created variable with the length of each word in our list\n",
    "\n",
    "    sortedWordCountList = sorted(listOfWordCount) #creating a variable that will represent the sorted list of words\n",
    "\n",
    "    indexOfLargestWord = listOfWordCount.index(sortedWordCountList[-1]) #creating a variable that will take the last word \n",
    "    #in the sorted list and return its index\n",
    "\n",
    "    return(ListOfWords[indexOfLargestWord]) #output will be the largest word in our list\n",
    "\n",
    "ListOfWords = ['abracadabra','spider','weekend','supercalifragilistic'] #input\n",
    "\n",
    "print(\"The original list is: \"+str(ListOfWords)) #output of our original list of words, as is\n",
    "print(\"The largest word in the list is: \"+str(find_longest_word(ListOfWords))) #print the output of our function\n",
    "#which is the largest (and last) in our sorted list of words\n",
    "\n",
    "# SW: lost points: the function should return the LENGTH of the longest word, not the word itself."
   ]
  },
  {
   "cell_type": "markdown",
   "metadata": {},
   "source": [
    "Question 5"
   ]
  },
  {
   "cell_type": "code",
   "execution_count": 18,
   "metadata": {
    "collapsed": false
   },
   "outputs": [
    {
     "name": "stdout",
     "output_type": "stream",
     "text": [
      "['abracadabra', 'supercalifragilistic']\n"
     ]
    }
   ],
   "source": [
    "#write a function filter_long_words() that takes a list of words and an integer n and returns the list of words that are longer than n\n",
    "\n",
    "def filter_long_words(List,n):\n",
    "    \"\"\"Defining a function with input of a list of words and some integer n, that will return all the words in our list that are\n",
    "longer than the integer, n\"\"\"\n",
    "    ListOfWords = []#creating a variable ListOfWords that will contain our input of words (of varying length)\n",
    "\n",
    "    for i in range(len(List)): #for every character in the list of words from our input...\n",
    "        if len(List[i]) > n: #if the length of any word in our list is greater than our integer n...\n",
    "            ListOfWords.append(List[i]) #return an appended list of words that only contains those greater than n\n",
    "\n",
    "    return ListOfWords #output our appended list of words (those greater than n)\n",
    "\n",
    "ListOfWords = ['abracadabra','spider','weekend','supercalifragilistic'] #input of list of words\n",
    "n = 8 #input of our integer n\n",
    "\n",
    "print (str(filter_long_words(ListOfWords,n))) #print output of function with our variable ListOfWords and integer n"
   ]
  },
  {
   "cell_type": "markdown",
   "metadata": {},
   "source": [
    "Question 6"
   ]
  },
  {
   "cell_type": "code",
   "execution_count": 24,
   "metadata": {
    "collapsed": false
   },
   "outputs": [
    {
     "name": "stdout",
     "output_type": "stream",
     "text": [
      "The string is a palindrome\n"
     ]
    }
   ],
   "source": [
    "#write a version of a palindrome recognizer that also accepts phrase palindromes \n",
    "\n",
    "import re #importing regular expression (re) function to determine if a particular input string matches a regular expression\n",
    "\n",
    "def is_palindrome(String):\n",
    "    \"\"\"Defining a function that will recognize a string of text as a palindrome (if it is)\"\"\"\n",
    "    \n",
    "    String = re.sub('[^a-zA-Z0-9]','',String) #Removing all the special characters so that all letters in string can be properly identified\n",
    "    #using a replace function already built into Python to sub any special characters with with a blank\n",
    "\n",
    "    reversedString = String[::-1] #creating a variable that is a reverse of the input string\n",
    "\n",
    "    if String.lower() == reversedString.lower(): #Comparing the lowercase version of the input string and its reverse\n",
    "        return True\n",
    "    else:\n",
    "        return False #if they are not the same, output should be False\n",
    "\n",
    "stringToCheckPalindrome = \"rise to vote sir\" #input string\n",
    "if is_palindrome(stringToCheckPalindrome) == True: #if our function above results in true, then print the following\n",
    "    print(\"The string is a palindrome\")\n",
    "else:\n",
    "    print(\"The string is not a palindrome\") #print this if our function resulted in false"
   ]
  },
  {
   "cell_type": "markdown",
   "metadata": {},
   "source": [
    "Question 7"
   ]
  },
  {
   "cell_type": "code",
   "execution_count": 30,
   "metadata": {
    "collapsed": false
   },
   "outputs": [
    {
     "name": "stdout",
     "output_type": "stream",
     "text": [
      "Sentence is not a Pangram\n"
     ]
    }
   ],
   "source": [
    "#write a sentence to check if a sentence is a pangram or not\n",
    "\n",
    "import re #importing regular expression (re) function to determine if a particular input string matches a regular expression\n",
    "def isPangram(Sentence):\n",
    "    \"\"\"A Pangram is a sentence that contains all the letters of the English alphabet at least once.\n",
    "We want to write a function to check if a sentence is a pangram or not. We must start with defining all letter in the alphabet\"\"\"\n",
    "    alphabetList = 'abcdefghijklmnopqrstuvwzyx'#listing letters of alphabet to be identified in our input Sentence\n",
    "    alphabetCount = 0\n",
    "\n",
    "    if len(Sentence) < 26: #Since pangram needs to contain each letter of the alphabet at least once, \n",
    "        #the sentence must be at least 26 characters long to even be considered a pangram.\n",
    "        return False #definitely not a pangram if sentence is less than 26 characters so output should be False\n",
    "    else:\n",
    "        Sentence = re.sub('[^a-zA-Z]','',Sentence) #if input Sentence is greater than 26 characters long, \n",
    "        #for every non-overlapping pattern of letters a-z in Sentence, take the text, and return the input Sentence\n",
    "\n",
    "        Sentence = Sentence.lower() #making input all lower case to compare to alphabetList variable above\n",
    "        \n",
    "        for i in range(len(alphabetList)): #for every character in our variable alphabetList above...\n",
    "            if alphabetList[i] in Sentence: #if a character in our variable alphabetList is in our input Sentence...\n",
    "                alphabetCount = alphabetCount+1 #then the count should be 1 (for every character from alphabetList that's in the input Sentence)\n",
    "\n",
    "        if alphabetCount == 26: #if the total length of all characters is 26 i.e. each letter from our alphabetList is identified\n",
    "            return True #then our input Sentence is a pangram\n",
    "        else:\n",
    "            return False #otherwise, our input Sentence is not a pangram\n",
    "                    \n",
    "#print (\"Sentence: \", (Sentence)) #print the input Sentence as entered\n",
    "\n",
    "Sentence = 'And the dish ran away with the spoon'\n",
    "\n",
    "if (isPangram(Sentence)):\n",
    "    print (\"Sentence is a Pangram\") #print this output if the input Sentence matches the 'True' criteria in our function\n",
    "else:\n",
    "    print (\"Sentence is not a Pangram\") #print this output if the input Sentence matches the 'False' criteria in our function\n",
    "\n",
    "# SW: you should get in the habit of checking that your code works as written. trying to execute this block throws\n",
    "#     an error because you reference Sentence before you define it."
   ]
  },
  {
   "cell_type": "markdown",
   "metadata": {},
   "source": [
    "Question 8"
   ]
  },
  {
   "cell_type": "code",
   "execution_count": 31,
   "metadata": {
    "collapsed": false
   },
   "outputs": [
    {
     "name": "stdout",
     "output_type": "stream",
     "text": [
      "99 bottles of coke on the wall, 99 bottles of coke.\n",
      "Take one down, pass it around, 98 bottles of coke on the wall.\n",
      " \n",
      "98 bottles of coke on the wall, 98 bottles of coke.\n",
      "Take one down, pass it around, 97 bottles of coke on the wall.\n",
      " \n",
      "97 bottles of coke on the wall, 97 bottles of coke.\n",
      "Take one down, pass it around, 96 bottles of coke on the wall.\n",
      " \n",
      "96 bottles of coke on the wall, 96 bottles of coke.\n",
      "Take one down, pass it around, 95 bottles of coke on the wall.\n",
      " \n",
      "95 bottles of coke on the wall, 95 bottles of coke.\n",
      "Take one down, pass it around, 94 bottles of coke on the wall.\n",
      " \n",
      "94 bottles of coke on the wall, 94 bottles of coke.\n",
      "Take one down, pass it around, 93 bottles of coke on the wall.\n",
      " \n",
      "93 bottles of coke on the wall, 93 bottles of coke.\n",
      "Take one down, pass it around, 92 bottles of coke on the wall.\n",
      " \n",
      "92 bottles of coke on the wall, 92 bottles of coke.\n",
      "Take one down, pass it around, 91 bottles of coke on the wall.\n",
      " \n",
      "91 bottles of coke on the wall, 91 bottles of coke.\n",
      "Take one down, pass it around, 90 bottles of coke on the wall.\n",
      " \n",
      "90 bottles of coke on the wall, 90 bottles of coke.\n",
      "Take one down, pass it around, 89 bottles of coke on the wall.\n",
      " \n",
      "89 bottles of coke on the wall, 89 bottles of coke.\n",
      "Take one down, pass it around, 88 bottles of coke on the wall.\n",
      " \n",
      "88 bottles of coke on the wall, 88 bottles of coke.\n",
      "Take one down, pass it around, 87 bottles of coke on the wall.\n",
      " \n",
      "87 bottles of coke on the wall, 87 bottles of coke.\n",
      "Take one down, pass it around, 86 bottles of coke on the wall.\n",
      " \n",
      "86 bottles of coke on the wall, 86 bottles of coke.\n",
      "Take one down, pass it around, 85 bottles of coke on the wall.\n",
      " \n",
      "85 bottles of coke on the wall, 85 bottles of coke.\n",
      "Take one down, pass it around, 84 bottles of coke on the wall.\n",
      " \n",
      "84 bottles of coke on the wall, 84 bottles of coke.\n",
      "Take one down, pass it around, 83 bottles of coke on the wall.\n",
      " \n",
      "83 bottles of coke on the wall, 83 bottles of coke.\n",
      "Take one down, pass it around, 82 bottles of coke on the wall.\n",
      " \n",
      "82 bottles of coke on the wall, 82 bottles of coke.\n",
      "Take one down, pass it around, 81 bottles of coke on the wall.\n",
      " \n",
      "81 bottles of coke on the wall, 81 bottles of coke.\n",
      "Take one down, pass it around, 80 bottles of coke on the wall.\n",
      " \n",
      "80 bottles of coke on the wall, 80 bottles of coke.\n",
      "Take one down, pass it around, 79 bottles of coke on the wall.\n",
      " \n",
      "79 bottles of coke on the wall, 79 bottles of coke.\n",
      "Take one down, pass it around, 78 bottles of coke on the wall.\n",
      " \n",
      "78 bottles of coke on the wall, 78 bottles of coke.\n",
      "Take one down, pass it around, 77 bottles of coke on the wall.\n",
      " \n",
      "77 bottles of coke on the wall, 77 bottles of coke.\n",
      "Take one down, pass it around, 76 bottles of coke on the wall.\n",
      " \n",
      "76 bottles of coke on the wall, 76 bottles of coke.\n",
      "Take one down, pass it around, 75 bottles of coke on the wall.\n",
      " \n",
      "75 bottles of coke on the wall, 75 bottles of coke.\n",
      "Take one down, pass it around, 74 bottles of coke on the wall.\n",
      " \n",
      "74 bottles of coke on the wall, 74 bottles of coke.\n",
      "Take one down, pass it around, 73 bottles of coke on the wall.\n",
      " \n",
      "73 bottles of coke on the wall, 73 bottles of coke.\n",
      "Take one down, pass it around, 72 bottles of coke on the wall.\n",
      " \n",
      "72 bottles of coke on the wall, 72 bottles of coke.\n",
      "Take one down, pass it around, 71 bottles of coke on the wall.\n",
      " \n",
      "71 bottles of coke on the wall, 71 bottles of coke.\n",
      "Take one down, pass it around, 70 bottles of coke on the wall.\n",
      " \n",
      "70 bottles of coke on the wall, 70 bottles of coke.\n",
      "Take one down, pass it around, 69 bottles of coke on the wall.\n",
      " \n",
      "69 bottles of coke on the wall, 69 bottles of coke.\n",
      "Take one down, pass it around, 68 bottles of coke on the wall.\n",
      " \n",
      "68 bottles of coke on the wall, 68 bottles of coke.\n",
      "Take one down, pass it around, 67 bottles of coke on the wall.\n",
      " \n",
      "67 bottles of coke on the wall, 67 bottles of coke.\n",
      "Take one down, pass it around, 66 bottles of coke on the wall.\n",
      " \n",
      "66 bottles of coke on the wall, 66 bottles of coke.\n",
      "Take one down, pass it around, 65 bottles of coke on the wall.\n",
      " \n",
      "65 bottles of coke on the wall, 65 bottles of coke.\n",
      "Take one down, pass it around, 64 bottles of coke on the wall.\n",
      " \n",
      "64 bottles of coke on the wall, 64 bottles of coke.\n",
      "Take one down, pass it around, 63 bottles of coke on the wall.\n",
      " \n",
      "63 bottles of coke on the wall, 63 bottles of coke.\n",
      "Take one down, pass it around, 62 bottles of coke on the wall.\n",
      " \n",
      "62 bottles of coke on the wall, 62 bottles of coke.\n",
      "Take one down, pass it around, 61 bottles of coke on the wall.\n",
      " \n",
      "61 bottles of coke on the wall, 61 bottles of coke.\n",
      "Take one down, pass it around, 60 bottles of coke on the wall.\n",
      " \n",
      "60 bottles of coke on the wall, 60 bottles of coke.\n",
      "Take one down, pass it around, 59 bottles of coke on the wall.\n",
      " \n",
      "59 bottles of coke on the wall, 59 bottles of coke.\n",
      "Take one down, pass it around, 58 bottles of coke on the wall.\n",
      " \n",
      "58 bottles of coke on the wall, 58 bottles of coke.\n",
      "Take one down, pass it around, 57 bottles of coke on the wall.\n",
      " \n",
      "57 bottles of coke on the wall, 57 bottles of coke.\n",
      "Take one down, pass it around, 56 bottles of coke on the wall.\n",
      " \n",
      "56 bottles of coke on the wall, 56 bottles of coke.\n",
      "Take one down, pass it around, 55 bottles of coke on the wall.\n",
      " \n",
      "55 bottles of coke on the wall, 55 bottles of coke.\n",
      "Take one down, pass it around, 54 bottles of coke on the wall.\n",
      " \n",
      "54 bottles of coke on the wall, 54 bottles of coke.\n",
      "Take one down, pass it around, 53 bottles of coke on the wall.\n",
      " \n",
      "53 bottles of coke on the wall, 53 bottles of coke.\n",
      "Take one down, pass it around, 52 bottles of coke on the wall.\n",
      " \n",
      "52 bottles of coke on the wall, 52 bottles of coke.\n",
      "Take one down, pass it around, 51 bottles of coke on the wall.\n",
      " \n",
      "51 bottles of coke on the wall, 51 bottles of coke.\n",
      "Take one down, pass it around, 50 bottles of coke on the wall.\n",
      " \n",
      "50 bottles of coke on the wall, 50 bottles of coke.\n",
      "Take one down, pass it around, 49 bottles of coke on the wall.\n",
      " \n",
      "49 bottles of coke on the wall, 49 bottles of coke.\n",
      "Take one down, pass it around, 48 bottles of coke on the wall.\n",
      " \n",
      "48 bottles of coke on the wall, 48 bottles of coke.\n",
      "Take one down, pass it around, 47 bottles of coke on the wall.\n",
      " \n",
      "47 bottles of coke on the wall, 47 bottles of coke.\n",
      "Take one down, pass it around, 46 bottles of coke on the wall.\n",
      " \n",
      "46 bottles of coke on the wall, 46 bottles of coke.\n",
      "Take one down, pass it around, 45 bottles of coke on the wall.\n",
      " \n",
      "45 bottles of coke on the wall, 45 bottles of coke.\n",
      "Take one down, pass it around, 44 bottles of coke on the wall.\n",
      " \n",
      "44 bottles of coke on the wall, 44 bottles of coke.\n",
      "Take one down, pass it around, 43 bottles of coke on the wall.\n",
      " \n",
      "43 bottles of coke on the wall, 43 bottles of coke.\n",
      "Take one down, pass it around, 42 bottles of coke on the wall.\n",
      " \n",
      "42 bottles of coke on the wall, 42 bottles of coke.\n",
      "Take one down, pass it around, 41 bottles of coke on the wall.\n",
      " \n",
      "41 bottles of coke on the wall, 41 bottles of coke.\n",
      "Take one down, pass it around, 40 bottles of coke on the wall.\n",
      " \n",
      "40 bottles of coke on the wall, 40 bottles of coke.\n",
      "Take one down, pass it around, 39 bottles of coke on the wall.\n",
      " \n",
      "39 bottles of coke on the wall, 39 bottles of coke.\n",
      "Take one down, pass it around, 38 bottles of coke on the wall.\n",
      " \n",
      "38 bottles of coke on the wall, 38 bottles of coke.\n",
      "Take one down, pass it around, 37 bottles of coke on the wall.\n",
      " \n",
      "37 bottles of coke on the wall, 37 bottles of coke.\n",
      "Take one down, pass it around, 36 bottles of coke on the wall.\n",
      " \n",
      "36 bottles of coke on the wall, 36 bottles of coke.\n",
      "Take one down, pass it around, 35 bottles of coke on the wall.\n",
      " \n",
      "35 bottles of coke on the wall, 35 bottles of coke.\n",
      "Take one down, pass it around, 34 bottles of coke on the wall.\n",
      " \n",
      "34 bottles of coke on the wall, 34 bottles of coke.\n",
      "Take one down, pass it around, 33 bottles of coke on the wall.\n",
      " \n",
      "33 bottles of coke on the wall, 33 bottles of coke.\n",
      "Take one down, pass it around, 32 bottles of coke on the wall.\n",
      " \n",
      "32 bottles of coke on the wall, 32 bottles of coke.\n",
      "Take one down, pass it around, 31 bottles of coke on the wall.\n",
      " \n",
      "31 bottles of coke on the wall, 31 bottles of coke.\n",
      "Take one down, pass it around, 30 bottles of coke on the wall.\n",
      " \n",
      "30 bottles of coke on the wall, 30 bottles of coke.\n",
      "Take one down, pass it around, 29 bottles of coke on the wall.\n",
      " \n",
      "29 bottles of coke on the wall, 29 bottles of coke.\n",
      "Take one down, pass it around, 28 bottles of coke on the wall.\n",
      " \n",
      "28 bottles of coke on the wall, 28 bottles of coke.\n",
      "Take one down, pass it around, 27 bottles of coke on the wall.\n",
      " \n",
      "27 bottles of coke on the wall, 27 bottles of coke.\n",
      "Take one down, pass it around, 26 bottles of coke on the wall.\n",
      " \n",
      "26 bottles of coke on the wall, 26 bottles of coke.\n",
      "Take one down, pass it around, 25 bottles of coke on the wall.\n",
      " \n",
      "25 bottles of coke on the wall, 25 bottles of coke.\n",
      "Take one down, pass it around, 24 bottles of coke on the wall.\n",
      " \n",
      "24 bottles of coke on the wall, 24 bottles of coke.\n",
      "Take one down, pass it around, 23 bottles of coke on the wall.\n",
      " \n",
      "23 bottles of coke on the wall, 23 bottles of coke.\n",
      "Take one down, pass it around, 22 bottles of coke on the wall.\n",
      " \n",
      "22 bottles of coke on the wall, 22 bottles of coke.\n",
      "Take one down, pass it around, 21 bottles of coke on the wall.\n",
      " \n",
      "21 bottles of coke on the wall, 21 bottles of coke.\n",
      "Take one down, pass it around, 20 bottles of coke on the wall.\n",
      " \n",
      "20 bottles of coke on the wall, 20 bottles of coke.\n",
      "Take one down, pass it around, 19 bottles of coke on the wall.\n",
      " \n",
      "19 bottles of coke on the wall, 19 bottles of coke.\n",
      "Take one down, pass it around, 18 bottles of coke on the wall.\n",
      " \n",
      "18 bottles of coke on the wall, 18 bottles of coke.\n",
      "Take one down, pass it around, 17 bottles of coke on the wall.\n",
      " \n",
      "17 bottles of coke on the wall, 17 bottles of coke.\n",
      "Take one down, pass it around, 16 bottles of coke on the wall.\n",
      " \n",
      "16 bottles of coke on the wall, 16 bottles of coke.\n",
      "Take one down, pass it around, 15 bottles of coke on the wall.\n",
      " \n",
      "15 bottles of coke on the wall, 15 bottles of coke.\n",
      "Take one down, pass it around, 14 bottles of coke on the wall.\n",
      " \n",
      "14 bottles of coke on the wall, 14 bottles of coke.\n",
      "Take one down, pass it around, 13 bottles of coke on the wall.\n",
      " \n",
      "13 bottles of coke on the wall, 13 bottles of coke.\n",
      "Take one down, pass it around, 12 bottles of coke on the wall.\n",
      " \n",
      "12 bottles of coke on the wall, 12 bottles of coke.\n",
      "Take one down, pass it around, 11 bottles of coke on the wall.\n",
      " \n",
      "11 bottles of coke on the wall, 11 bottles of coke.\n",
      "Take one down, pass it around, 10 bottles of coke on the wall.\n",
      " \n",
      "10 bottles of coke on the wall, 10 bottles of coke.\n",
      "Take one down, pass it around, 9 bottles of coke on the wall.\n",
      " \n",
      "9 bottles of coke on the wall, 9 bottles of coke.\n",
      "Take one down, pass it around, 8 bottles of coke on the wall.\n",
      " \n",
      "8 bottles of coke on the wall, 8 bottles of coke.\n",
      "Take one down, pass it around, 7 bottles of coke on the wall.\n",
      " \n",
      "7 bottles of coke on the wall, 7 bottles of coke.\n",
      "Take one down, pass it around, 6 bottles of coke on the wall.\n",
      " \n",
      "6 bottles of coke on the wall, 6 bottles of coke.\n",
      "Take one down, pass it around, 5 bottles of coke on the wall.\n",
      " \n",
      "5 bottles of coke on the wall, 5 bottles of coke.\n",
      "Take one down, pass it around, 4 bottles of coke on the wall.\n",
      " \n",
      "4 bottles of coke on the wall, 4 bottles of coke.\n",
      "Take one down, pass it around, 3 bottles of coke on the wall.\n",
      " \n",
      "3 bottles of coke on the wall, 3 bottles of coke.\n",
      "Take one down, pass it around, 2 bottles of coke on the wall.\n",
      " \n",
      "2 bottles of coke on the wall, 2 bottles of coke.\n",
      "Take one down, pass it around, 1 bottles of coke on the wall.\n",
      " \n",
      "1 bottles of coke on the wall, 1 bottles of coke.\n",
      "Take one down, pass it around, 0 bottles of coke on the wall.\n",
      " \n"
     ]
    },
    {
     "ename": "SyntaxError",
     "evalue": "'return' outside function (<ipython-input-31-9ea99b2047c7>, line 11)",
     "output_type": "error",
     "traceback": [
      "\u001b[0;36m  File \u001b[0;32m\"<ipython-input-31-9ea99b2047c7>\"\u001b[0;36m, line \u001b[0;32m11\u001b[0m\n\u001b[0;31m    return;\u001b[0m\n\u001b[0m           ^\u001b[0m\n\u001b[0;31mSyntaxError\u001b[0m\u001b[0;31m:\u001b[0m 'return' outside function\n"
     ]
    }
   ],
   "source": [
    "#write a Python program capable of generating all the verses of the song '99 bottles of coke'\n",
    "\n",
    "def sing99BottlesOfCoke():\n",
    " \"\"\"Defining a function that will print recurring verses with similar text but decreasing numbers for each verse\"\"\"\n",
    "for i in range(99,0,-1): #for every number (i) from 0 to 99, beginning from the right with 99, do the following\n",
    "        print(str(i)+\" bottles of coke on the wall, \"+str(i) +\" bottles of coke.\");\n",
    "        '''First line of verse will start with a number (i)'''\n",
    "        print(\"Take one down, pass it around, \"+str(i-1) +\" bottles of coke on the wall.\");\n",
    "        '''Second line of verse will include decreasing (i) by 1'''\n",
    "        print (\" \"); #output will be the 2 lines of the verse with the (i) values between 0 and 99\n",
    "return;\n",
    "         \n",
    "sing99BottlesOfCoke() #call function"
   ]
  },
  {
   "cell_type": "markdown",
   "metadata": {},
   "source": [
    "Question 9"
   ]
  },
  {
   "cell_type": "code",
   "execution_count": 33,
   "metadata": {
    "collapsed": false
   },
   "outputs": [
    {
     "name": "stdout",
     "output_type": "stream",
     "text": [
      "god jul och gott nytt år \n"
     ]
    },
    {
     "data": {
      "text/plain": [
       "'god jul '"
      ]
     },
     "execution_count": 33,
     "metadata": {},
     "output_type": "execute_result"
    }
   ],
   "source": [
    "#write a function translate() that takes a list of English words and returns a list of Swedish words\n",
    "\n",
    "import re #importing regular expression (re) function to determine if a particular input string matches a regular expression\n",
    " \n",
    "'''Creating a variable, dictionary that contains certain English words and their Swedish translations'''\n",
    " \n",
    "dictionary = {\"merry\":\"god\",\n",
    "              \"christmas\":\"jul\",\n",
    "              \"and\":\"och\",\n",
    "              \"happy\":\"gott\",\n",
    "              \"new\":\"nytt\",\n",
    "              \"year\":\"år\"}\n",
    " \n",
    "def translate(String):\n",
    "    '''Defining a function translate to translate the English words in our dictionary above into their Swedish translations'''\n",
    " \n",
    "    translatedString = \"\"\n",
    "     \n",
    "    \n",
    "    for i in String.split(\" \"): #for i in (re.findall(r'\\w+', String)), and for i in (re.findall('[a-z]+', String)):\n",
    "        #for every word in \" \" in our dictionary, separated by colons\n",
    " \n",
    "        if (str(dictionary.get(i))) != \"None\": #this .get function returns a value for the given key \n",
    "        #if the word is in our dictionary defined above\n",
    "            translatedString = translatedString+str(dictionary.get(i))+\" \" #the translated string will be some string of the translated words\n",
    "        else:\n",
    "            translatedString = \"\" #otherwise, the translated string will be empty\n",
    "            return translatedString #return an empty string\n",
    "             \n",
    "    return translatedString\n",
    "             \n",
    " \n",
    "String = \"merry christmas and happy new year\" #input is a combination of the English words already in our dictionary\n",
    " \n",
    "if (translate(String)) == \"\": #from our criteria above, if the word is not in our dictionary, then it can't be translated\n",
    "    print(\"The sentence can not be translated\") #output\n",
    "else:\n",
    "    print(str(translate(String))) #print the translated string of words\n",
    "         \n",
    "# SW: this is fine, but be careful about scoping. you should either (a) define dictionary within translate() or (b) \n",
    "#     explicitly pass a dictionary as a parameter to translate(). you do not in general want a function to depend on\n",
    "#     objects that are not passed as parameters, because if those objects change, your function can then behave (and\n",
    "#     possibly fail) in unpredictable ways."
   ]
  },
  {
   "cell_type": "markdown",
   "metadata": {},
   "source": [
    "Question 10"
   ]
  },
  {
   "cell_type": "code",
   "execution_count": 37,
   "metadata": {
    "collapsed": false
   },
   "outputs": [
    {
     "name": "stdout",
     "output_type": "stream",
     "text": [
      "abbabcbdbabdbdbabababcbcbab\n",
      "{'d': 3, 'b': 14, 'a': 7, 'c': 3}\n"
     ]
    }
   ],
   "source": [
    "#write a function char_freq() that takes a string and builds a frequency listing of the characters contained in it.\n",
    "\n",
    "def char_freq(String):\n",
    "    \"\"\"We want a function that will take a string of text and tell us the frequency of the characters in that string\n",
    " We will represent the frequency listing as a Python dictionary. We start with creating the variable dictionary\"\"\"\n",
    "    dictionary = {} #we are not limiting the dictionary to any specific characters\n",
    " \n",
    "    print(String) #print the input String\n",
    "     \n",
    "    for i in range(len(String)): #for every character in the input String\n",
    " \n",
    "        if String[i] in dictionary:#if the character is in the dictionary\n",
    "            dictionary[String[i]]= int(dictionary.get(String[i]))+1 #create a dictionary that lists the integer \n",
    "            #associated with that character throughout the string. Add 1 since the int() function will start count at 0\n",
    "        else:\n",
    "            dictionary[String[i]]= 1 #otherwise the dictionary will list the character and associate a count of 1\n",
    " \n",
    "    return dictionary #output of dictionary with results from above function\n",
    "         \n",
    "print(str(char_freq(\"abbabcbdbabdbdbabababcbcbab\"))) #input string and call function"
   ]
  },
  {
   "cell_type": "markdown",
   "metadata": {},
   "source": [
    "Question 11"
   ]
  },
  {
   "cell_type": "code",
   "execution_count": 41,
   "metadata": {
    "collapsed": false
   },
   "outputs": [
    {
     "name": "stdout",
     "output_type": "stream",
     "text": [
      "Pnrfne pvcure? V zhpu cersre Pnrfne fnynq!\n",
      "Caesar cipher? I much prefer Caesar salad! \n",
      "Caesar cipher? I much prefer Caesar salad!\n",
      "Pnrfne pvcure? V zhpu cersre Pnrfne fnynq! \n",
      "None\n"
     ]
    },
    {
     "ename": "TypeError",
     "evalue": "expected string or buffer",
     "output_type": "error",
     "traceback": [
      "\u001b[0;31m---------------------------------------------------------------------------\u001b[0m",
      "\u001b[0;31mTypeError\u001b[0m                                 Traceback (most recent call last)",
      "\u001b[0;32m<ipython-input-41-db70c8e3c076>\u001b[0m in \u001b[0;36m<module>\u001b[0;34m()\u001b[0m\n\u001b[1;32m     31\u001b[0m \u001b[0;34m\u001b[0m\u001b[0m\n\u001b[1;32m     32\u001b[0m \u001b[0mdecoder_encoder\u001b[0m\u001b[0;34m(\u001b[0m\u001b[0;34m\"Pnrfne pvcure? V zhpu cersre Pnrfne fnynq!\"\u001b[0m\u001b[0;34m)\u001b[0m \u001b[0;31m#call function and input a string\u001b[0m\u001b[0;34m\u001b[0m\u001b[0m\n\u001b[0;32m---> 33\u001b[0;31m \u001b[0mdecoder_encoder\u001b[0m\u001b[0;34m(\u001b[0m\u001b[0mdecoder_encoder\u001b[0m\u001b[0;34m(\u001b[0m\u001b[0;34m\"Caesar cipher? I much prefer Caesar salad!\"\u001b[0m\u001b[0;34m)\u001b[0m\u001b[0;34m)\u001b[0m\u001b[0;34m\u001b[0m\u001b[0m\n\u001b[0m",
      "\u001b[0;32m<ipython-input-41-db70c8e3c076>\u001b[0m in \u001b[0;36mdecoder_encoder\u001b[0;34m(String)\u001b[0m\n\u001b[1;32m     19\u001b[0m     \u001b[0mprint\u001b[0m\u001b[0;34m(\u001b[0m\u001b[0mString\u001b[0m\u001b[0;34m)\u001b[0m \u001b[0;31m#print our input String to compare to translated output\u001b[0m\u001b[0;34m\u001b[0m\u001b[0m\n\u001b[1;32m     20\u001b[0m \u001b[0;34m\u001b[0m\u001b[0m\n\u001b[0;32m---> 21\u001b[0;31m     \u001b[0;32mfor\u001b[0m \u001b[0mword\u001b[0m \u001b[0;32min\u001b[0m \u001b[0;34m(\u001b[0m\u001b[0mre\u001b[0m\u001b[0;34m.\u001b[0m\u001b[0mfindall\u001b[0m\u001b[0;34m(\u001b[0m\u001b[0;34m'[a-zA-Z0-9?!]+'\u001b[0m\u001b[0;34m,\u001b[0m \u001b[0mString\u001b[0m\u001b[0;34m)\u001b[0m\u001b[0;34m)\u001b[0m\u001b[0;34m:\u001b[0m\u001b[0;34m\u001b[0m\u001b[0m\n\u001b[0m\u001b[1;32m     22\u001b[0m         \u001b[0;31m#for every word in our input string, we want to identify all characters from our key in that word\u001b[0m\u001b[0;34m\u001b[0m\u001b[0;34m\u001b[0m\u001b[0m\n\u001b[1;32m     23\u001b[0m         \u001b[0;32mfor\u001b[0m \u001b[0mj\u001b[0m \u001b[0;32min\u001b[0m \u001b[0mrange\u001b[0m\u001b[0;34m(\u001b[0m\u001b[0mlen\u001b[0m\u001b[0;34m(\u001b[0m\u001b[0mword\u001b[0m\u001b[0;34m)\u001b[0m\u001b[0;34m)\u001b[0m\u001b[0;34m:\u001b[0m \u001b[0;31m#for every character in the word\u001b[0m\u001b[0;34m\u001b[0m\u001b[0m\n",
      "\u001b[0;32m/Users/nataliabarolin/anaconda/lib/python3.4/re.py\u001b[0m in \u001b[0;36mfindall\u001b[0;34m(pattern, string, flags)\u001b[0m\n\u001b[1;32m    208\u001b[0m \u001b[0;34m\u001b[0m\u001b[0m\n\u001b[1;32m    209\u001b[0m     Empty matches are included in the result.\"\"\"\n\u001b[0;32m--> 210\u001b[0;31m     \u001b[0;32mreturn\u001b[0m \u001b[0m_compile\u001b[0m\u001b[0;34m(\u001b[0m\u001b[0mpattern\u001b[0m\u001b[0;34m,\u001b[0m \u001b[0mflags\u001b[0m\u001b[0;34m)\u001b[0m\u001b[0;34m.\u001b[0m\u001b[0mfindall\u001b[0m\u001b[0;34m(\u001b[0m\u001b[0mstring\u001b[0m\u001b[0;34m)\u001b[0m\u001b[0;34m\u001b[0m\u001b[0m\n\u001b[0m\u001b[1;32m    211\u001b[0m \u001b[0;34m\u001b[0m\u001b[0m\n\u001b[1;32m    212\u001b[0m \u001b[0;32mif\u001b[0m \u001b[0msys\u001b[0m\u001b[0;34m.\u001b[0m\u001b[0mhexversion\u001b[0m \u001b[0;34m>=\u001b[0m \u001b[0;36m0x02020000\u001b[0m\u001b[0;34m:\u001b[0m\u001b[0;34m\u001b[0m\u001b[0m\n",
      "\u001b[0;31mTypeError\u001b[0m: expected string or buffer"
     ]
    }
   ],
   "source": [
    "#implement an encoder/decoder of ROT-13 and decode a message\n",
    " \n",
    "import re #importing regular expression (re) function to determine if a particular input string matches a regular expression\n",
    "\"\"\"We want to create a function that will map each letter of the alphabet to another letter 13 places away.\n",
    "First we start with listing each letter of the alphabet (lower and upper case) and its mapping 13 places away in the alphabet\"\"\"\n",
    "\n",
    "key = {'a':'n', 'b':'o', 'c':'p', 'd':'q', 'e':'r', 'f':'s', 'g':'t', 'h':'u', \n",
    "       'i':'v', 'j':'w', 'k':'x', 'l':'y', 'm':'z', 'n':'a', 'o':'b', 'p':'c', \n",
    "       'q':'d', 'r':'e', 's':'f', 't':'g', 'u':'h', 'v':'i', 'w':'j', 'x':'k',\n",
    "       'y':'l', 'z':'m', 'A':'N', 'B':'O', 'C':'P', 'D':'Q', 'E':'R', 'F':'S', \n",
    "       'G':'T', 'H':'U', 'I':'V', 'J':'W', 'K':'X', 'L':'Y', 'M':'Z', 'N':'A', \n",
    "       'O':'B', 'P':'C', 'Q':'D', 'R':'E', 'S':'F', 'T':'G', 'U':'H', 'V':'I', \n",
    "       'W':'J', 'X':'K', 'Y':'L', 'Z':'M'}\n",
    " \n",
    "def decoder_encoder(String): #defining our function with input of a String of letters\n",
    " \n",
    "    newString = \"\" #our tranlsated string will be some text\n",
    " \n",
    "    print(String) #print our input String to compare to translated output\n",
    " \n",
    "    for word in (re.findall('[a-zA-Z0-9?!]+', String)): \n",
    "        #for every word in our input string, we want to identify all characters from our key in that word\n",
    "        for j in range(len(word)): #for every character in the word\n",
    "            if word[j] in key: #if the character is a member of our key\n",
    "                newString = newString+key[word[j]] #the output String will be the letters that our word maps onto in the key\n",
    "            else:\n",
    "                newString = newString+word[j] #if we can't match a word in our input String, ouput will be just the non-translated word\n",
    "        newString = newString+\" \" #print our new, translated characters and words as a sentence\n",
    "    print(newString)\n",
    "    return\n",
    "             \n",
    "decoder_encoder(\"Pnrfne pvcure? V zhpu cersre Pnrfne fnynq!\") #call function and input a string\n",
    "\n",
    "# SW: although the instructions did not explicitly say this, you should be returning the encoded/decoded string, not\n",
    "#     merely printing it. for example, the below should work.\n",
    "decoder_encoder(decoder_encoder(\"Caesar cipher? I much prefer Caesar salad!\"))"
   ]
  },
  {
   "cell_type": "markdown",
   "metadata": {},
   "source": [
    "Question 12"
   ]
  },
  {
   "cell_type": "code",
   "execution_count": 45,
   "metadata": {
    "collapsed": false
   },
   "outputs": [
    {
     "name": "stdout",
     "output_type": "stream",
     "text": [
      "Interesting stuff. Can see how this could be useful\n"
     ]
    }
   ],
   "source": [
    "#define a spelling correction function correct() that takes a string and corrects it for extra spacing and spacing after periods.\n",
    "\n",
    "import re\n",
    " \n",
    "def correct(String):\n",
    "    \"\"\"We want to define a function that takes a string and identifies any extra spacing between terms or missing spaces after a period\"\"\"\n",
    "    correctedString = re.sub('\\ +',' ',String); #removing extra spaces by replacing them with the String\n",
    "    correctedString = re.sub('\\.','. ',correctedString); #using .sub to putting extra space after period\n",
    "    print (correctedString);#print output of corrected string\n",
    "    \n",
    "    return;\n",
    "\n",
    "String = \"Interesting  stuff.Can see how this   could  be      useful\"; #input\n",
    "\n",
    "correct(String) #call function\n",
    "\n",
    "# SW: again, although the instructions weren't explicit, you should be returning a string, not just printing it."
   ]
  },
  {
   "cell_type": "markdown",
   "metadata": {},
   "source": [
    "Question 13"
   ]
  },
  {
   "cell_type": "code",
   "execution_count": 52,
   "metadata": {
    "collapsed": false
   },
   "outputs": [
    {
     "name": "stdout",
     "output_type": "stream",
     "text": [
      "ponies\n",
      "beaches\n",
      "hands\n"
     ]
    }
   ],
   "source": [
    "#define a function make_3sg_form() which, given a verb in infinitive form, returns its third person singular form\n",
    "\n",
    "def make_3sg_form(verb):\n",
    "    \"\"\"We want a function that takes our input Verb and applies the following rules:\n",
    " If the verb ends in y, remove it and add ies\n",
    " If the verb ends in o, ch, s, sh, x, or z, add es\n",
    " By default, add s\"\"\"\n",
    "    es = ('o', 'ch', 's', 'sh', 'x', 'z') #creating a variable called es that will help identify input Verbs that end in those suffices\n",
    "    if verb.endswith('y'): #making use of .endswith function. if the string ends with y, \n",
    "        return re.sub('y$', 'ies', verb) #output should be the Verb but replacing y with ies\n",
    "    elif verb.endswith(es): #if the Verb doesn't end in y, and ends in one of our suffices from variable definition above\n",
    "        return verb + 'es' #output should be the verb plus es at the end\n",
    "    else:\n",
    "        return verb + 's' #if the input Verb doesn't end in y or one of the suffices in our variable 'es' above, just add s to the Verb\n",
    "\"\"\"Now we want to try all 3 types of words to test the function\"\"\"  \n",
    "print(make_3sg_form(\"pony\"))\n",
    "print(make_3sg_form(\"beach\"))\n",
    "print(make_3sg_form(\"hand\"))"
   ]
  },
  {
   "cell_type": "markdown",
   "metadata": {},
   "source": [
    "Question 14"
   ]
  },
  {
   "cell_type": "code",
   "execution_count": 53,
   "metadata": {
    "collapsed": false
   },
   "outputs": [
    {
     "name": "stdout",
     "output_type": "stream",
     "text": [
      "lying\n",
      "seing\n",
      "moving\n",
      "hugging\n"
     ]
    }
   ],
   "source": [
    "#define a function make_ing_form which, given a verb in infinitive form, returns its present participle form\n",
    "\n",
    "def make_ing_form(Word): \n",
    "    \"\"\"Defining a function that forms the present participle of a verb in the infinitive form. The function will follow the rules:\n",
    "    If the verb ends in e, drop the e and add ing\n",
    "    If the verb ends in ie, change ie to y and add ing\n",
    "    For words consisting of consonant-vowel-consonant, double the final letter before adding ing\n",
    "    By default, just add ing\"\"\" \n",
    "    \n",
    "    if Word.endswith('ie'):\n",
    "        Word = Word.rstrip('ie') #create a variable Word defined so that we remove the 'ie' from the input Word\n",
    "        pp_of_Word = Word+'y'+'ing' #present participle is now the word, without 'ie', plus 'y' and 'ing'\n",
    "         \n",
    "    elif Word.endswith('e'): #if the word doesn't end in 'ie' but ends in 'e'\n",
    "        Word = Word[:-1] #create a variable Word defined so that we remove the last character in the word, i.e. 'e'\n",
    "        pp_of_Word = Word+'ing'#present participle is the word plus 'ing' at the end (instead of 'e')\n",
    " \n",
    "    elif Word[-2] in 'aiou':#if the word doesn't meet any of the criteria above, and the second character from the right is\n",
    "        #a, i, o, or u\n",
    "        pp_of_Word = Word + Word[-1] + 'ing' #then the present participle is the Word plus a repeat of the last character, \n",
    "        #and then add ing\n",
    " \n",
    "    print(str(pp_of_Word)) #print output of present participle depending on criteria met\n",
    "    \"\"\"Trying different cases of words that could meet criteria; including 'see' which is an exception to our rule\"\"\"\n",
    "    return;\n",
    "\n",
    "make_ing_form('lie')\n",
    "make_ing_form('see')\n",
    "make_ing_form('move')\n",
    "make_ing_form('hug')\n",
    "\n",
    "# SW: lost points: in this case, the instructions were explicit about returning the present participle. and, you\n",
    "#     needed to implement special handling for at least the cases described, i.e., 'see' should be 'seeing', 'be' \n",
    "#     should be 'being', and so on."
   ]
  },
  {
   "cell_type": "code",
   "execution_count": null,
   "metadata": {
    "collapsed": true
   },
   "outputs": [],
   "source": []
  }
 ],
 "metadata": {
  "kernelspec": {
   "display_name": "Python 3",
   "language": "python",
   "name": "python3"
  },
  "language_info": {
   "codemirror_mode": {
    "name": "ipython",
    "version": 3
   },
   "file_extension": ".py",
   "mimetype": "text/x-python",
   "name": "python",
   "nbconvert_exporter": "python",
   "pygments_lexer": "ipython3",
   "version": "3.4.3"
  }
 },
 "nbformat": 4,
 "nbformat_minor": 0
}
